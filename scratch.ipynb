{
 "cells": [
  {
   "cell_type": "code",
   "execution_count": 3,
   "metadata": {},
   "outputs": [
    {
     "name": "stdout",
     "output_type": "stream",
     "text": [
      "[[1. 0.]\n",
      " [1. 0.]\n",
      " [1. 0.]\n",
      " [1. 0.]\n",
      " [1. 0.]]\n"
     ]
    }
   ],
   "source": [
    "import numpy as np\n",
    "\n",
    "print(np.stack(\n",
    "    (np.ones(5), np.zeros(5)), axis=-1\n",
    "))"
   ]
  },
  {
   "cell_type": "code",
   "execution_count": 7,
   "metadata": {},
   "outputs": [
    {
     "name": "stdout",
     "output_type": "stream",
     "text": [
      "[[4.         0.        ]\n",
      " [7.         1.        ]\n",
      " [3.33333333 0.        ]\n",
      " [4.83333334 0.16666667]\n",
      " [6.33333333 0.83333333]]\n"
     ]
    }
   ],
   "source": [
    "line = [\n",
    "[141.         ,240.        ],\n",
    " [145.         ,240.        ],\n",
    " [152.         ,241.        ],\n",
    " [155.33333333 ,241.        ],\n",
    " [160.16666667 ,241.16666667],\n",
    " [166.5        ,242.        ],\n",
    "]\n",
    "\n",
    "print(np.diff(line))"
   ]
  }
 ],
 "metadata": {
  "kernelspec": {
   "display_name": "sciencegpt",
   "language": "python",
   "name": "python3"
  },
  "language_info": {
   "codemirror_mode": {
    "name": "ipython",
    "version": 3
   },
   "file_extension": ".py",
   "mimetype": "text/x-python",
   "name": "python",
   "nbconvert_exporter": "python",
   "pygments_lexer": "ipython3",
   "version": "3.12.3"
  }
 },
 "nbformat": 4,
 "nbformat_minor": 2
}
