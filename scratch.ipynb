{
 "cells": [
  {
   "cell_type": "code",
   "execution_count": 3,
   "metadata": {},
   "outputs": [
    {
     "name": "stdout",
     "output_type": "stream",
     "text": [
      "[[1. 0.]\n",
      " [1. 0.]\n",
      " [1. 0.]\n",
      " [1. 0.]\n",
      " [1. 0.]]\n"
     ]
    }
   ],
   "source": [
    "import numpy as np\n",
    "\n",
    "print(np.stack(\n",
    "    (np.ones(5), np.zeros(5)), axis=-1\n",
    "))"
   ]
  },
  {
   "cell_type": "code",
   "execution_count": 11,
   "metadata": {},
   "outputs": [
    {
     "name": "stdout",
     "output_type": "stream",
     "text": [
      "[4.         7.         3.33333333 4.83333334 6.33333333]\n"
     ]
    }
   ],
   "source": [
    "line = [\n",
    "[141.         ,240.        ],\n",
    " [145.         ,240.        ],\n",
    " [152.         ,241.        ],\n",
    " [155.33333333 ,241.        ],\n",
    " [160.16666667 ,241.16666667],\n",
    " [166.5        ,242.        ],\n",
    "]\n",
    "\n",
    "print(np.diff(line, axis=0)[:,0])"
   ]
  },
  {
   "cell_type": "code",
   "execution_count": 14,
   "metadata": {},
   "outputs": [
    {
     "ename": "TypeError",
     "evalue": "return arrays must be of ArrayType",
     "output_type": "error",
     "traceback": [
      "\u001b[0;31m---------------------------------------------------------------------------\u001b[0m",
      "\u001b[0;31mTypeError\u001b[0m                                 Traceback (most recent call last)",
      "Cell \u001b[0;32mIn[14], line 20\u001b[0m\n\u001b[1;32m      1\u001b[0m vel \u001b[38;5;241m=\u001b[39m [\n\u001b[1;32m      2\u001b[0m     [ \u001b[38;5;241m3.83545354e+00\u001b[39m, \u001b[38;5;241m-\u001b[39m\u001b[38;5;241m1.34091513e+00\u001b[39m],\n\u001b[1;32m      3\u001b[0m  [ \u001b[38;5;241m2.20713482e+00\u001b[39m, \u001b[38;5;241m-\u001b[39m\u001b[38;5;241m1.66426665e+00\u001b[39m],\n\u001b[0;32m   (...)\u001b[0m\n\u001b[1;32m     17\u001b[0m  [\u001b[38;5;241m-\u001b[39m\u001b[38;5;241m1.99549550e+00\u001b[39m, \u001b[38;5;241m-\u001b[39m\u001b[38;5;241m1.00900901e+00\u001b[39m],\n\u001b[1;32m     18\u001b[0m  [\u001b[38;5;241m-\u001b[39m\u001b[38;5;241m4.00450450e+00\u001b[39m,  \u001b[38;5;241m2.84217094e-14\u001b[39m]]\n\u001b[0;32m---> 20\u001b[0m vel \u001b[38;5;241m=\u001b[39m [\u001b[43mnp\u001b[49m\u001b[38;5;241;43m.\u001b[39;49m\u001b[43msqrt\u001b[49m\u001b[43m(\u001b[49m\u001b[43ma\u001b[49m\u001b[43m[\u001b[49m\u001b[38;5;241;43m0\u001b[39;49m\u001b[43m]\u001b[49m\u001b[38;5;241;43m*\u001b[39;49m\u001b[38;5;241;43m*\u001b[39;49m\u001b[38;5;241;43m2\u001b[39;49m\u001b[43m,\u001b[49m\u001b[43m \u001b[49m\u001b[43ma\u001b[49m\u001b[43m[\u001b[49m\u001b[38;5;241;43m1\u001b[39;49m\u001b[43m]\u001b[49m\u001b[38;5;241;43m*\u001b[39;49m\u001b[38;5;241;43m*\u001b[39;49m\u001b[38;5;241;43m2\u001b[39;49m\u001b[43m)\u001b[49m \u001b[38;5;28;01mfor\u001b[39;00m a \u001b[38;5;129;01min\u001b[39;00m vel]\n\u001b[1;32m     22\u001b[0m \u001b[38;5;28mprint\u001b[39m(vel)\n",
      "\u001b[0;31mTypeError\u001b[0m: return arrays must be of ArrayType"
     ]
    }
   ],
   "source": [
    "vel = [\n",
    "    [ 3.83545354e+00, -1.34091513e+00],\n",
    " [ 2.20713482e+00, -1.66426665e+00],\n",
    " [ 2.00197726e+00, -2.00248544e+00],\n",
    " [ 8.62959989e-01, -2.14158631e+00],\n",
    " [ 0.00000000e+00, -5.00445186e+00],\n",
    " [-1.43099195e-01, -2.86145795e+00],\n",
    " [-1.14718768e+00, -2.58303402e+00],\n",
    " [-3.52196552e+00, -5.56907419e+00],\n",
    " [-1.33702995e+00, -3.00450450e+00],\n",
    " [-2.48487945e+00, -3.82158540e+00],\n",
    " [-1.51935000e+00, -2.18742690e+00],\n",
    " [-1.66831045e+00, -2.18267897e+00],\n",
    " [-1.33599578e+00, -3.66850677e+00],\n",
    " [-1.00218277e+00, -2.00232368e+00],\n",
    " [-8.39999194e-01, -2.16450531e+00],\n",
    " [-1.99549550e+00, -1.00900901e+00],\n",
    " [-4.00450450e+00,  2.84217094e-14]]\n",
    "\n",
    "\n",
    "\n",
    "vel = [np.sqrt(a[0]**2 + a[1]**2) for a in vel]\n",
    "\n",
    "print(vel)"
   ]
  }
 ],
 "metadata": {
  "kernelspec": {
   "display_name": "sciencegpt",
   "language": "python",
   "name": "python3"
  },
  "language_info": {
   "codemirror_mode": {
    "name": "ipython",
    "version": 3
   },
   "file_extension": ".py",
   "mimetype": "text/x-python",
   "name": "python",
   "nbconvert_exporter": "python",
   "pygments_lexer": "ipython3",
   "version": "3.12.3"
  }
 },
 "nbformat": 4,
 "nbformat_minor": 2
}
